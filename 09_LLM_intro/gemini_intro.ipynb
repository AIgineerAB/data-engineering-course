{
 "cells": [
  {
   "cell_type": "markdown",
   "id": "2ec98135",
   "metadata": {},
   "source": [
    "# Gemini intro"
   ]
  },
  {
   "cell_type": "code",
   "execution_count": 1,
   "id": "1290a5e9",
   "metadata": {},
   "outputs": [
    {
     "name": "stderr",
     "output_type": "stream",
     "text": [
      "/Users/aigineer/Documents/github/LLM/.venv/lib/python3.11/site-packages/tqdm/auto.py:21: TqdmWarning: IProgress not found. Please update jupyter and ipywidgets. See https://ipywidgets.readthedocs.io/en/stable/user_install.html\n",
      "  from .autonotebook import tqdm as notebook_tqdm\n"
     ]
    },
    {
     "data": {
      "text/plain": [
       "True"
      ]
     },
     "execution_count": 1,
     "metadata": {},
     "output_type": "execute_result"
    }
   ],
   "source": [
    "import google.generativeai as genai \n",
    "from dotenv import load_dotenv\n",
    "import os \n",
    "\n",
    "load_dotenv()\n",
    "\n",
    "# os.getenv(\"GEMINI_API_KEY\")"
   ]
  },
  {
   "cell_type": "markdown",
   "id": "9102e6f9",
   "metadata": {},
   "source": [
    "## Setting up gemini"
   ]
  },
  {
   "cell_type": "code",
   "execution_count": 4,
   "id": "e48ea0d2",
   "metadata": {},
   "outputs": [
    {
     "name": "stdout",
     "output_type": "stream",
     "text": [
      "I en skog där solljuset silade genom de höga trädens kronor och mossan mjuka bädd dämpade varje steg, bodde en liten kanin vid namn Snöfot. Han var inte som de andra kaninerna i kullen. Medan de rusade runt i vilda lekar och snabbt stoppade i sig saftiga klöverblad, älskade Snöfot att utforska. Hans nos ryckte nyfiket mot dofterna av kåda, våt jord och den söta nektar som gömde sig i skogens blommor.\n",
      "\n",
      "Snöfot bodde med sin familj i en mysig håla under rötterna av en gammal ek. Hans mamma, med sin varma blick och mjuka päls, varnade honom ständigt för farorna i skogen: hungriga rävar, skygga ugglor och de obarmhärtiga rovdjuren som lurade i skuggorna. Men Snöfot lyssnade bara med ett halvt öra. Äventyret kallade.\n",
      "\n",
      "En dag, medan hans syskon mumsade på en ovanligt god maskros, smög Snöfot iväg. Han hoppade lätt över fallna grenar och navigerade genom täta buskar, ivrig att se vad skogen hade att erbjuda. Han kom fram till en glänta han aldrig sett förut. Mitt i gläntan låg en damm, spegelblank och stilla. Vid dammkanten växte näckrosor med stora, vita blommor som strålade i solskenet.\n",
      "\n",
      "Snöfot hade aldrig sett något så vackert. Han närmade sig försiktigt dammen och kikade ner i det klara vattnet. Hans egen spegelbild mötte honom. Plötsligt, en plask! En grön groda hoppade ut ur vattnet och landade precis bredvid Snöfot. Han hoppade till av förvåning.\n",
      "\n",
      "\"Välkommen till min damm!\", kväkte grodan med en hes röst. \"Jag heter Kväk.\"\n",
      "\n",
      "Snöfot hade aldrig pratat med en groda förut. \"Jag heter Snöfot,\" stammade han.\n",
      "\n",
      "Kväk och Snöfot pratade länge. Kväk berättade om livet i dammen, om fiskarna som simmade under ytan och de trollsländor som dansade i luften. Snöfot berättade om sin familj, sin kärlek till skogen och sina drömmar om att se allt som skogen hade att erbjuda.\n",
      "\n",
      "Tillsammans utforskade de dammens omgivningar. Kväk visade Snöfot hur man hittar de sötaste bären och de mjukaste mossorna att sova på. Snöfot, i sin tur, berättade om alla de dofter han kände och hur han kunde avgöra om det skulle regna bara genom att sniffa i luften.\n",
      "\n",
      "Men solen började sjunka, och Snöfot visste att han måste återvända till sin familj. \"Jag måste gå nu,\" sa han till Kväk. \"Men jag kommer tillbaka i morgon.\"\n",
      "\n",
      "\"Jag väntar här,\" svarade Kväk med ett leende.\n",
      "\n",
      "Varje dag återvände Snöfot till dammen för att träffa Kväk. De delade hemligheter, upptäckte nya platser och lärde sig av varandra. Snöfot lärde sig att se skogen med nya ögon, och Kväk lärde sig att uppskatta de dofter och ljud som fanns utanför dammen.\n",
      "\n",
      "En dag, medan Snöfot var på väg till dammen, hörde han ett bekant ljud: hans mammas varnande rop. Han hörde också ett främmande morrande. Han sprang i riktning mot ropen och hittade sin mamma, omringad av ett par rävar. Hon var fast i en fälla och kunde inte röra sig.\n",
      "\n",
      "Snöfot visste att han var tvungen att agera snabbt. Han hoppade fram framför rävarna och började skrika och slå med sina små ben. Rävarna skrattade. Men Snöfot gav inte upp. Han fortsatte att skrika och sparka, och till sin förvåning hörde han ett välbekant kväkande. Kväk och de andra grodorna från dammen hade anslutit sig till tumultet. De hoppade och kväkte och distraherade rävarna.\n",
      "\n",
      "I förvirringen lyckades Snöfot gnaga loss fällan med sina små tänder. Hans mamma var fri! Tillsammans flydde de, följda av en svärm av kväkande grodor, och lyckades undkomma rävarna.\n",
      "\n",
      "När de var i säkerhet tackade Snöfots mamma honom. \"Du var så modig,\" sa hon. \"Jag är så stolt över dig.\"\n",
      "\n",
      "Snöfot log. Han hade inte bara räddat sin mamma, han hade också visat att även den minsta kaninen kunde vara modig. Och han hade lärt sig att sann vänskap kan övervinna alla hinder, oavsett hur olika vännerna är.\n",
      "\n",
      "Från den dagen blev Snöfot och Kväk hjältar i skogen. De fortsatte att utforska och lära sig, och de visade alla att äventyr och vänskap kan finnas överallt, om man bara vågar leta. Och Snöfot, den lilla kaninen som älskade att utforska, levde lyckligt i skogen, med sin bästa vän, grodan Kväk, vid sin sida.\n",
      "\n"
     ]
    }
   ],
   "source": [
    "genai.configure(api_key=os.getenv(\"GEMINI_API_KEY\"))\n",
    "\n",
    "model = genai.GenerativeModel(\"gemini-2.0-flash\")\n",
    "\n",
    "prompt = \"Ge mig en historia om en kanin som bor i skogen\"\n",
    "\n",
    "response = model.generate_content(prompt)\n",
    "print(response.text)"
   ]
  },
  {
   "cell_type": "markdown",
   "id": "21d2fcce",
   "metadata": {},
   "source": [
    "## Prompt engineering\n",
    "\n",
    "- hur ska gemini arbeta -> vilken roll ska den ha\n",
    "- kriterier - regler ex bedöm i åttagradig skala\n",
    "- exempel\n",
    "- formatera outputen ex json output, bullet points"
   ]
  },
  {
   "cell_type": "code",
   "execution_count": 6,
   "id": "229feaba",
   "metadata": {},
   "outputs": [
    {
     "name": "stdout",
     "output_type": "stream",
     "text": [
      "About the job\n",
      "SEB is more than just a bank with an IT function. We are a progressive tech company powered by innovation and fuelled by collaboration. From Java to AI and everything in between, we offer you an impressive tech stack and several technology paths. Together we're innovating for a sustainable society and building the tech arena of the future, a welcoming space for everyone.\n",
      "\n",
      "Join Our Mission Against Financial Crime\n",
      "\n",
      "Would you like to work with a team of highly skilled Software Engineers to build solutions that empower complex investigations? We’re looking for an experienced Data Engineer to join our Financial Crime Prevention team—where data, technology, and purpose align to detect and prevent bad actors.\n",
      "\n",
      "About The Role\n",
      "\n",
      "As a Data Engineer in the Financial Crime Prevention team, you will be responsible for developing and maintaining new technical capabilities in a smart way to allow us to detect bad actors. Here you will have a chance to make a difference and work with challenging tasks. You will have great opportunities to both develop and take further steps in your career working within a highly collaborative environment.\n",
      "\n",
      "To Thrive In This Role, We Believe You Have\n",
      "\n",
      "Experience in large scale Data Engineering projects\n",
      "Experience in Streaming technology such as Data Flow\n",
      "Experience of batch technology such as Data Proc\n",
      "Experience in Schema Registry\n",
      "Experience in Infrastructure as Code such as Terraform\n",
      "Knowledge in Graph DB is an advantage\n",
      "Analytical mindset and ability to solve complex technical problems \n",
      "Passion for challenges to drive your personal development and professional growth\n",
      "Being a team player open for growth and learning is crucially important for the role\n",
      "\n",
      "What We Offer\n",
      "\n",
      "Innovative company at the forefront of technology \n",
      "Extensive training and learning opportunities \n",
      "Attractive compensation and benefits \n",
      "Work-life balance \n",
      "Friendly and welcoming culture \n",
      "\n",
      "Do you want to be part of SEB? \n",
      "\n",
      "Welcome to our inclusive culture, where our shared values inspire and uplift our team. We celebrate diversity and strive to ensure every employee feels seen, heard, and valued.\n",
      "\n",
      "Since we select candidates continuously, feel free to send in your application today, but no later than 30th of April 2025. If you have questions about the position, please contact rasmus.hallberg@seb.se\n",
      "\n",
      "Learn more about working at SEB here: www.sebgroup.com/techcareers\n",
      "\n",
      "It is our fundamental belief that inclusion and diversity is crucial for our future success. We strive to have an inclusive, value-driven culture where employees feel valued, respected and involved irrespective of who they are, what they believe or where they come from.\n",
      "\n",
      "\n",
      "Desired Skills and Experience\n",
      "\n",
      "\n"
     ]
    }
   ],
   "source": [
    "with open(\"annons.txt\", \"r\") as file:\n",
    "    ad_text = file.read()\n",
    "\n",
    "print(ad_text)"
   ]
  },
  {
   "cell_type": "code",
   "execution_count": 8,
   "id": "b3a174a9",
   "metadata": {},
   "outputs": [
    {
     "name": "stdout",
     "output_type": "stream",
     "text": [
      "SEB is a progressive tech company innovating for a sustainable society.\n",
      "\n",
      "\n",
      "\n",
      "They are seeking a Data Engineer to join their Financial Crime Prevention team.\n",
      "\n",
      "\n",
      "\n",
      "This role involves developing and maintaining technical capabilities to detect bad actors.\n",
      "\n",
      "\n",
      "\n",
      "The ideal candidate has experience in large-scale data engineering projects, streaming technologies, and infrastructure as code.\n",
      "\n",
      "\n",
      "\n",
      "SEB offers extensive training, attractive benefits, and a welcoming, inclusive culture.\n",
      "\n"
     ]
    }
   ],
   "source": [
    "prompt = f\"\"\"\n",
    "Summarize this text in 5 sentences\n",
    "\n",
    "{ad_text}\n",
    "\n",
    "Put in 2 newlines per sentence, make the sentences shorter\n",
    "\"\"\"\n",
    "\n",
    "response = model.generate_content(prompt)\n",
    "print(response.text)"
   ]
  },
  {
   "cell_type": "code",
   "execution_count": 9,
   "id": "aca50955",
   "metadata": {},
   "outputs": [
    {
     "name": "stdout",
     "output_type": "stream",
     "text": [
      "```json\n",
      "{\n",
      "    \"krav\": [\n",
      "        \"Erfarenhet av storskaliga Data Engineering projekt\",\n",
      "        \"Erfarenhet av Streaming-teknologier såsom Data Flow\",\n",
      "        \"Erfarenhet av batch-teknologier såsom Data Proc\",\n",
      "        \"Erfarenhet av Schema Registry\",\n",
      "        \"Erfarenhet av Infrastructure as Code såsom Terraform\",\n",
      "        \"Analytiskt tankesätt och förmåga att lösa komplexa tekniska problem\",\n",
      "        \"Passion för utmaningar för att driva personlig och professionell utveckling\",\n",
      "        \"Att vara en lagspelare öppen för utveckling och lärande\"\n",
      "    ],\n",
      "    \"meriterande\": [\n",
      "        \"Kunskap inom Graph DB\"\n",
      "    ]\n",
      "}\n",
      "```\n",
      "\n"
     ]
    }
   ],
   "source": [
    "prompt = f\"\"\"\n",
    "Du är en rekryterare inom data science, data enginnering, data analyst.\n",
    "\n",
    "Plocka ut alla erfarenheter som efterfrågas i denna jobbannons:\n",
    "\n",
    "{ad_text}\n",
    "\n",
    "Output ska vara i detta formatet:\n",
    "\n",
    "{{\n",
    "    \"krav\": [erfarenhet1, erfarenhet2, ...],\n",
    "    \"meriterande\": [erfarenhet1, erfarenhet2, ...]\n",
    "}}\n",
    "\"\"\"\n",
    "\n",
    "response = model.generate_content(prompt)\n",
    "print(response.text)"
   ]
  },
  {
   "cell_type": "code",
   "execution_count": null,
   "id": "6817e018",
   "metadata": {},
   "outputs": [],
   "source": []
  }
 ],
 "metadata": {
  "kernelspec": {
   "display_name": ".venv",
   "language": "python",
   "name": "python3"
  },
  "language_info": {
   "codemirror_mode": {
    "name": "ipython",
    "version": 3
   },
   "file_extension": ".py",
   "mimetype": "text/x-python",
   "name": "python",
   "nbconvert_exporter": "python",
   "pygments_lexer": "ipython3",
   "version": "3.11.8"
  }
 },
 "nbformat": 4,
 "nbformat_minor": 5
}
